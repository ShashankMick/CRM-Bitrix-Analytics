{
 "cells": [
  {
   "cell_type": "code",
   "execution_count": 1,
   "id": "b94237dc-7bf4-447f-9cf8-098276ff7120",
   "metadata": {},
   "outputs": [],
   "source": [
    "#pip install plotly"
   ]
  },
  {
   "cell_type": "code",
   "execution_count": 3,
   "id": "f2241c5d-a67f-472c-bb8e-a3ddb400a204",
   "metadata": {},
   "outputs": [],
   "source": [
    "import numpy as np\n",
    "import pandas as pd\n",
    "import matplotlib.pyplot as plt\n",
    "import ipywidgets as widgets\n",
    "from IPython.display import display\n",
    "import plotly.express as px\n",
    "import seaborn as sns"
   ]
  },
  {
   "cell_type": "code",
   "execution_count": 7,
   "id": "d8712b6c-18b2-4c60-9e08-7791eebd1585",
   "metadata": {},
   "outputs": [
    {
     "data": {
      "text/html": [
       "<div>\n",
       "<style scoped>\n",
       "    .dataframe tbody tr th:only-of-type {\n",
       "        vertical-align: middle;\n",
       "    }\n",
       "\n",
       "    .dataframe tbody tr th {\n",
       "        vertical-align: top;\n",
       "    }\n",
       "\n",
       "    .dataframe thead th {\n",
       "        text-align: right;\n",
       "    }\n",
       "</style>\n",
       "<table border=\"1\" class=\"dataframe\">\n",
       "  <thead>\n",
       "    <tr style=\"text-align: right;\">\n",
       "      <th></th>\n",
       "      <th>ID</th>\n",
       "      <th>Pipeline</th>\n",
       "      <th>Repeat deal</th>\n",
       "      <th>Repeat inquiry</th>\n",
       "      <th>Stage</th>\n",
       "      <th>Observers</th>\n",
       "      <th>Probability, %</th>\n",
       "      <th>Payment status</th>\n",
       "      <th>Delivery status</th>\n",
       "      <th>Responsible</th>\n",
       "      <th>...</th>\n",
       "      <th>Company: Instagram comments</th>\n",
       "      <th>Company: Network contact</th>\n",
       "      <th>Company: Live Chat</th>\n",
       "      <th>Company: Open Channel account</th>\n",
       "      <th>Company: ICQ Number</th>\n",
       "      <th>Company: MSN/Live!</th>\n",
       "      <th>Company: Jabber</th>\n",
       "      <th>Company: Other Contact</th>\n",
       "      <th>Company: Linked user</th>\n",
       "      <th>Company: Status</th>\n",
       "    </tr>\n",
       "  </thead>\n",
       "  <tbody>\n",
       "    <tr>\n",
       "      <th>0</th>\n",
       "      <td>8751</td>\n",
       "      <td>General</td>\n",
       "      <td>N</td>\n",
       "      <td>Y</td>\n",
       "      <td>Reach</td>\n",
       "      <td>NaN</td>\n",
       "      <td>NaN</td>\n",
       "      <td>NaN</td>\n",
       "      <td>NaN</td>\n",
       "      <td>Preetika Karnik</td>\n",
       "      <td>...</td>\n",
       "      <td>NaN</td>\n",
       "      <td>NaN</td>\n",
       "      <td>NaN</td>\n",
       "      <td>NaN</td>\n",
       "      <td>NaN</td>\n",
       "      <td>NaN</td>\n",
       "      <td>NaN</td>\n",
       "      <td>NaN</td>\n",
       "      <td>NaN</td>\n",
       "      <td>Ongoing</td>\n",
       "    </tr>\n",
       "    <tr>\n",
       "      <th>1</th>\n",
       "      <td>8747</td>\n",
       "      <td>General</td>\n",
       "      <td>N</td>\n",
       "      <td>Y</td>\n",
       "      <td>Meeting Booked</td>\n",
       "      <td>NaN</td>\n",
       "      <td>10.0</td>\n",
       "      <td>NaN</td>\n",
       "      <td>NaN</td>\n",
       "      <td>Jaya Maurya</td>\n",
       "      <td>...</td>\n",
       "      <td>NaN</td>\n",
       "      <td>NaN</td>\n",
       "      <td>NaN</td>\n",
       "      <td>NaN</td>\n",
       "      <td>NaN</td>\n",
       "      <td>NaN</td>\n",
       "      <td>NaN</td>\n",
       "      <td>NaN</td>\n",
       "      <td>NaN</td>\n",
       "      <td>Ongoing</td>\n",
       "    </tr>\n",
       "    <tr>\n",
       "      <th>2</th>\n",
       "      <td>8745</td>\n",
       "      <td>General</td>\n",
       "      <td>N</td>\n",
       "      <td>Y</td>\n",
       "      <td>Reach</td>\n",
       "      <td>NaN</td>\n",
       "      <td>NaN</td>\n",
       "      <td>NaN</td>\n",
       "      <td>NaN</td>\n",
       "      <td>Siddharth Pandey</td>\n",
       "      <td>...</td>\n",
       "      <td>NaN</td>\n",
       "      <td>NaN</td>\n",
       "      <td>NaN</td>\n",
       "      <td>NaN</td>\n",
       "      <td>NaN</td>\n",
       "      <td>NaN</td>\n",
       "      <td>NaN</td>\n",
       "      <td>NaN</td>\n",
       "      <td>NaN</td>\n",
       "      <td>Ongoing</td>\n",
       "    </tr>\n",
       "    <tr>\n",
       "      <th>3</th>\n",
       "      <td>8743</td>\n",
       "      <td>General</td>\n",
       "      <td>N</td>\n",
       "      <td>Y</td>\n",
       "      <td>Reach</td>\n",
       "      <td>NaN</td>\n",
       "      <td>NaN</td>\n",
       "      <td>NaN</td>\n",
       "      <td>NaN</td>\n",
       "      <td>Preetika Karnik</td>\n",
       "      <td>...</td>\n",
       "      <td>NaN</td>\n",
       "      <td>NaN</td>\n",
       "      <td>NaN</td>\n",
       "      <td>NaN</td>\n",
       "      <td>NaN</td>\n",
       "      <td>NaN</td>\n",
       "      <td>NaN</td>\n",
       "      <td>NaN</td>\n",
       "      <td>NaN</td>\n",
       "      <td>Ongoing</td>\n",
       "    </tr>\n",
       "    <tr>\n",
       "      <th>4</th>\n",
       "      <td>8741</td>\n",
       "      <td>General</td>\n",
       "      <td>N</td>\n",
       "      <td>Y</td>\n",
       "      <td>Reach</td>\n",
       "      <td>NaN</td>\n",
       "      <td>NaN</td>\n",
       "      <td>NaN</td>\n",
       "      <td>NaN</td>\n",
       "      <td>Jaya Maurya</td>\n",
       "      <td>...</td>\n",
       "      <td>NaN</td>\n",
       "      <td>NaN</td>\n",
       "      <td>NaN</td>\n",
       "      <td>NaN</td>\n",
       "      <td>NaN</td>\n",
       "      <td>NaN</td>\n",
       "      <td>NaN</td>\n",
       "      <td>NaN</td>\n",
       "      <td>NaN</td>\n",
       "      <td>Ongoing</td>\n",
       "    </tr>\n",
       "  </tbody>\n",
       "</table>\n",
       "<p>5 rows × 193 columns</p>\n",
       "</div>"
      ],
      "text/plain": [
       "     ID Pipeline Repeat deal Repeat inquiry           Stage Observers  \\\n",
       "0  8751  General           N              Y           Reach       NaN   \n",
       "1  8747  General           N              Y  Meeting Booked       NaN   \n",
       "2  8745  General           N              Y           Reach       NaN   \n",
       "3  8743  General           N              Y           Reach       NaN   \n",
       "4  8741  General           N              Y           Reach       NaN   \n",
       "\n",
       "   Probability, %  Payment status  Delivery status       Responsible  ...  \\\n",
       "0             NaN             NaN              NaN   Preetika Karnik  ...   \n",
       "1            10.0             NaN              NaN       Jaya Maurya  ...   \n",
       "2             NaN             NaN              NaN  Siddharth Pandey  ...   \n",
       "3             NaN             NaN              NaN   Preetika Karnik  ...   \n",
       "4             NaN             NaN              NaN       Jaya Maurya  ...   \n",
       "\n",
       "  Company: Instagram comments Company: Network contact Company: Live Chat  \\\n",
       "0                         NaN                      NaN                NaN   \n",
       "1                         NaN                      NaN                NaN   \n",
       "2                         NaN                      NaN                NaN   \n",
       "3                         NaN                      NaN                NaN   \n",
       "4                         NaN                      NaN                NaN   \n",
       "\n",
       "  Company: Open Channel account Company: ICQ Number  Company: MSN/Live!  \\\n",
       "0                           NaN                 NaN                 NaN   \n",
       "1                           NaN                 NaN                 NaN   \n",
       "2                           NaN                 NaN                 NaN   \n",
       "3                           NaN                 NaN                 NaN   \n",
       "4                           NaN                 NaN                 NaN   \n",
       "\n",
       "  Company: Jabber Company: Other Contact Company: Linked user Company: Status  \n",
       "0             NaN                    NaN                  NaN         Ongoing  \n",
       "1             NaN                    NaN                  NaN         Ongoing  \n",
       "2             NaN                    NaN                  NaN         Ongoing  \n",
       "3             NaN                    NaN                  NaN         Ongoing  \n",
       "4             NaN                    NaN                  NaN         Ongoing  \n",
       "\n",
       "[5 rows x 193 columns]"
      ]
     },
     "execution_count": 7,
     "metadata": {},
     "output_type": "execute_result"
    }
   ],
   "source": [
    "# Load the .xls file using the xlrd engine\n",
    "df = pd.read_excel(\"Deal_Bitrix.xlsx\")\n",
    "# Display the first few rows of the dataframe\n",
    "df.head()"
   ]
  },
  {
   "cell_type": "code",
   "execution_count": 1,
   "id": "e2b558f5-0e58-428c-a695-bc4f441aad27",
   "metadata": {},
   "outputs": [],
   "source": [
    "# for col in df.columns:\n",
    "#     print(f\"Column: {col}\")\n",
    "#     print(f\"Data Type: {df[col].dtype}\")\n",
    "#     print(f\"Number of Unique Values: {df[col].nunique()}\")\n",
    "#     print(f\"Number of Missing Values: {df[col].isnull().sum()}\")\n",
    "#     print(f\"Sample Values: {df[col].unique()[:5]}\")\n",
    "#     print(\"-\" * 30)"
   ]
  },
  {
   "cell_type": "code",
   "execution_count": 8,
   "id": "6bde6d07-f3a2-4a40-8fa1-afea8f40e789",
   "metadata": {},
   "outputs": [],
   "source": [
    "# Selecting columns we need for analysis\n",
    "sel_cols = f\"ID, Created, Modified, Stage, Created by, Modified by, Responsible, Repeat inquiry, Deal Name, Type, Source, Company, Contact, UTM Source, UTM Medium, UTM Campaign, UTM Content, UTM Term, Lead Status, Reason for Loss, Reasons for Win, Follow Up Status, Nature of Project, Services, LS - Service Fit, LS - Urgency, LG - Budget Availability, LG - Decision Making Capability, Contact: ID, Contact: First name, Contact: Last name, Contact: Position, Contact: Responsible person, Contact: Source, Contact: Work Phone, Contact: Mobile, Contact: Shopify Store URL, Contact: Do you have a shopify website, Contact: Do you want to build a shopify website, Contact: Do you have a D2C/eCommerce webiste, Contact: Do you need any help with your online business?, Company: Company Name\"\n",
    "sel_cols_list = sel_cols.split(\", \")\n",
    "df = df[sel_cols_list]\n",
    "# df.info()"
   ]
  },
  {
   "cell_type": "code",
   "execution_count": 9,
   "id": "b3ec3fad-b017-4f44-b8ab-d2e36f0a003b",
   "metadata": {},
   "outputs": [],
   "source": [
    "# Modifying time columns to datetime variable\n",
    "df['Created'] = pd.to_datetime(df['Created'], format='%d.%m.%Y %H:%M:%S')\n",
    "df['Modified'] = pd.to_datetime(df['Modified'], format='%d.%m.%Y %H:%M:%S')"
   ]
  },
  {
   "cell_type": "code",
   "execution_count": 26,
   "id": "fd1f7bcc-82af-43c7-bac6-56831466f1a5",
   "metadata": {},
   "outputs": [
    {
     "data": {
      "text/plain": [
       "['Reach',\n",
       " 'Meeting Booked',\n",
       " 'Develop',\n",
       " 'Attract',\n",
       " 'Proposal',\n",
       " 'Onboarded',\n",
       " 'SQL',\n",
       " 'Contract Sent',\n",
       " 'Renewal',\n",
       " 'Analyze failure',\n",
       " 'Negotiation']"
      ]
     },
     "execution_count": 26,
     "metadata": {},
     "output_type": "execute_result"
    }
   ],
   "source": [
    "#Extracting all stages\n",
    "shuffled_stages = df['Stage'].unique().tolist()\n",
    "shuffled_stages"
   ]
  },
  {
   "cell_type": "code",
   "execution_count": 28,
   "id": "ae2c035a-d35b-47f5-bdad-1f257670c8c1",
   "metadata": {},
   "outputs": [],
   "source": [
    "#stages\n",
    "stages = ['Reach','Attract','Develop','Meeting Booked','SQL','Proposal','Contract Sent','Negotiation','Onboarded','Renewal', 'Analyze failure']"
   ]
  },
  {
   "cell_type": "code",
   "execution_count": 29,
   "id": "82200d7c-9d9a-47cd-a57c-d4a92628f074",
   "metadata": {},
   "outputs": [],
   "source": [
    "\n",
    "# Making cumulative of stages by repeating all stages after it to that stage in an expanded dataframe\n",
    "def expand_cumulative_stages(df, stages, stage_col='Stage'):\n",
    "    expanded_data = []\n",
    "    \n",
    "    # Iterate through each row in the DataFrame\n",
    "    for _, row in df.iterrows():\n",
    "        current_stage_index = stages.index(row[stage_col])\n",
    "        \n",
    "        # Repeat the row for the current stage and all preceding stages\n",
    "        for stage in stages[:current_stage_index + 1]:\n",
    "            new_row = row.copy()\n",
    "            new_row[stage_col] = stage\n",
    "            expanded_data.append(new_row)\n",
    "    \n",
    "    # Create a new DataFrame with the expanded data\n",
    "    expanded_df = pd.DataFrame(expanded_data)\n",
    "    return expanded_df\n",
    "\n",
    "# Apply the transformation to create cumulative stages\n",
    "cum_stages_breakdown_expanded = expand_cumulative_stages(df, stages)\n",
    "\n",
    "    "
   ]
  },
  {
   "cell_type": "code",
   "execution_count": 30,
   "id": "fd7923e0-d9c2-4ed4-93fd-268b8ccabd43",
   "metadata": {},
   "outputs": [],
   "source": [
    "cum_stages_breakdown_expanded['Count']=1"
   ]
  },
  {
   "cell_type": "code",
   "execution_count": 31,
   "id": "7e333d94-6436-4fc4-a355-51458f1971c4",
   "metadata": {},
   "outputs": [
    {
     "data": {
      "text/plain": [
       "array(['Preetika Karnik', 'Jaya Maurya', 'Siddharth Pandey',\n",
       "       'Aditya Singh', 'Shashank Sharma'], dtype=object)"
      ]
     },
     "execution_count": 31,
     "metadata": {},
     "output_type": "execute_result"
    }
   ],
   "source": [
    "cum_stages_breakdown_expanded['Responsible'].unique()"
   ]
  },
  {
   "cell_type": "code",
   "execution_count": 32,
   "id": "9fafffbf-9385-4fba-8141-33d94d205ba3",
   "metadata": {},
   "outputs": [],
   "source": [
    "\n",
    "# Sidebar for user inputs\n",
    "# st.sidebar.title(\"Filter Options\")\n",
    "\n",
    "# Add date range filter in the sidebar\n",
    "min_date = cum_stages_breakdown_expanded['Created'].min()\n",
    "max_date = cum_stages_breakdown_expanded['Created'].max()\n",
    "# start_date, end_date = st.sidebar.date_input(\n",
    "#     \"Select Date Range\",\n",
    "#     [min_date, max_date],\n",
    "#     min_value=min_date,\n",
    "#     max_value=max_date\n",
    "# )\n",
    "start_date, end_date = min_date, max_date\n",
    "\n",
    "# List of potential filter columns\n",
    "filter_columns = ['Lead Status', 'Responsible']\n",
    "\n",
    "# Dictionary to store selected filters\n",
    "selected_filters = {'Lead Status':['Junk', 'Connection Made', 'Connection yet to be made',\n",
    "       'Dead', 'Request Sent', 'New Lead', 'No Show', 'Won', 'Nurture',\n",
    "       'Request Accepted'], 'Responsible':['Preetika Karnik', 'Jaya Maurya', 'Siddharth Pandey',\n",
    "       'Aditya Singh', 'Shashank Sharma']}\n",
    "\n",
    "# Loop through each filter column and create a multiselect dropdown\n",
    "# for col in filter_columns:\n",
    "#     unique_values = list(cum_stages_breakdown_expanded[col].dropna().unique())\n",
    "#     selected_values = st.sidebar.multiselect(f'Select {col}', unique_values, default=unique_values)\n",
    "#     selected_filters[col] = selected_values\n",
    "\n",
    "# Dropdown for selecting the breakdown variable\n",
    "# breakdown_var = st.sidebar.selectbox(\n",
    "#     'Select Breakdown Variable',\n",
    "#     'Lead Status'\n",
    "# )\n",
    "breakdown_var = 'Lead Status'\n",
    "\n",
    "# Filter the DataFrame based on user-selected filters and date range\n",
    "filtered_df = cum_stages_breakdown_expanded.copy()\n",
    "\n",
    "# Apply the date range filter\n",
    "filtered_df = filtered_df[(filtered_df['Created'] >= pd.to_datetime(start_date)) & \n",
    "                          (filtered_df['Created'] <= pd.to_datetime(end_date))]\n",
    "\n",
    "# Apply additional filters for categorical columns\n",
    "for col, values in selected_filters.items():\n",
    "    filtered_df = filtered_df[filtered_df[col].isin(values)]\n",
    "\n",
    "# Group the data by Stage and the selected breakdown variable\n",
    "cumulative_grouped = filtered_df.groupby(['Stage', breakdown_var])['Count'].sum().reset_index()"
   ]
  },
  {
   "cell_type": "code",
   "execution_count": 33,
   "id": "6f69ba6a-3251-4586-8414-005acb1cae45",
   "metadata": {},
   "outputs": [
    {
     "data": {
      "application/vnd.plotly.v1+json": {
       "config": {
        "plotlyServerURL": "https://plot.ly"
       },
       "data": [
        {
         "alignmentgroup": "True",
         "hovertemplate": "Lead Status=New Lead<br>Count=%{x}<br>Stage=%{y}<extra></extra>",
         "legendgroup": "New Lead",
         "marker": {
          "color": "#636efa",
          "pattern": {
           "shape": ""
          }
         },
         "name": "New Lead",
         "offsetgroup": "New Lead",
         "orientation": "h",
         "showlegend": true,
         "textposition": "auto",
         "type": "bar",
         "x": [
          1,
          2268,
          1,
          334,
          1,
          1,
          1,
          1,
          2393,
          1,
          1
         ],
         "xaxis": "x",
         "y": [
          "Analyze failure",
          "Attract",
          "Contract Sent",
          "Develop",
          "Meeting Booked",
          "Negotiation",
          "Onboarded",
          "Proposal",
          "Reach",
          "Renewal",
          "SQL"
         ],
         "yaxis": "y"
        },
        {
         "alignmentgroup": "True",
         "hovertemplate": "Lead Status=Connection Made<br>Count=%{x}<br>Stage=%{y}<extra></extra>",
         "legendgroup": "Connection Made",
         "marker": {
          "color": "#EF553B",
          "pattern": {
           "shape": ""
          }
         },
         "name": "Connection Made",
         "offsetgroup": "Connection Made",
         "orientation": "h",
         "showlegend": true,
         "textposition": "auto",
         "type": "bar",
         "x": [
          16,
          4,
          16,
          15,
          3,
          1,
          8,
          16,
          14
         ],
         "xaxis": "x",
         "y": [
          "Attract",
          "Contract Sent",
          "Develop",
          "Meeting Booked",
          "Negotiation",
          "Onboarded",
          "Proposal",
          "Reach",
          "SQL"
         ],
         "yaxis": "y"
        },
        {
         "alignmentgroup": "True",
         "hovertemplate": "Lead Status=Connection yet to be made<br>Count=%{x}<br>Stage=%{y}<extra></extra>",
         "legendgroup": "Connection yet to be made",
         "marker": {
          "color": "#00cc96",
          "pattern": {
           "shape": ""
          }
         },
         "name": "Connection yet to be made",
         "offsetgroup": "Connection yet to be made",
         "orientation": "h",
         "showlegend": true,
         "textposition": "auto",
         "type": "bar",
         "x": [
          4,
          4,
          4
         ],
         "xaxis": "x",
         "y": [
          "Attract",
          "Develop",
          "Reach"
         ],
         "yaxis": "y"
        },
        {
         "alignmentgroup": "True",
         "hovertemplate": "Lead Status=Dead<br>Count=%{x}<br>Stage=%{y}<extra></extra>",
         "legendgroup": "Dead",
         "marker": {
          "color": "#ab63fa",
          "pattern": {
           "shape": ""
          }
         },
         "name": "Dead",
         "offsetgroup": "Dead",
         "orientation": "h",
         "showlegend": true,
         "textposition": "auto",
         "type": "bar",
         "x": [
          8,
          1,
          8,
          7,
          1,
          8,
          4
         ],
         "xaxis": "x",
         "y": [
          "Attract",
          "Contract Sent",
          "Develop",
          "Meeting Booked",
          "Proposal",
          "Reach",
          "SQL"
         ],
         "yaxis": "y"
        },
        {
         "alignmentgroup": "True",
         "hovertemplate": "Lead Status=Junk<br>Count=%{x}<br>Stage=%{y}<extra></extra>",
         "legendgroup": "Junk",
         "marker": {
          "color": "#FFA15A",
          "pattern": {
           "shape": ""
          }
         },
         "name": "Junk",
         "offsetgroup": "Junk",
         "orientation": "h",
         "showlegend": true,
         "textposition": "auto",
         "type": "bar",
         "x": [
          2,
          2,
          1,
          4
         ],
         "xaxis": "x",
         "y": [
          "Attract",
          "Develop",
          "Meeting Booked",
          "Reach"
         ],
         "yaxis": "y"
        },
        {
         "alignmentgroup": "True",
         "hovertemplate": "Lead Status=No Show<br>Count=%{x}<br>Stage=%{y}<extra></extra>",
         "legendgroup": "No Show",
         "marker": {
          "color": "#19d3f3",
          "pattern": {
           "shape": ""
          }
         },
         "name": "No Show",
         "offsetgroup": "No Show",
         "orientation": "h",
         "showlegend": true,
         "textposition": "auto",
         "type": "bar",
         "x": [
          8,
          8,
          8,
          8
         ],
         "xaxis": "x",
         "y": [
          "Attract",
          "Develop",
          "Meeting Booked",
          "Reach"
         ],
         "yaxis": "y"
        },
        {
         "alignmentgroup": "True",
         "hovertemplate": "Lead Status=Nurture<br>Count=%{x}<br>Stage=%{y}<extra></extra>",
         "legendgroup": "Nurture",
         "marker": {
          "color": "#FF6692",
          "pattern": {
           "shape": ""
          }
         },
         "name": "Nurture",
         "offsetgroup": "Nurture",
         "orientation": "h",
         "showlegend": true,
         "textposition": "auto",
         "type": "bar",
         "x": [
          19,
          2,
          19,
          18,
          1,
          6,
          19,
          15
         ],
         "xaxis": "x",
         "y": [
          "Attract",
          "Contract Sent",
          "Develop",
          "Meeting Booked",
          "Negotiation",
          "Proposal",
          "Reach",
          "SQL"
         ],
         "yaxis": "y"
        },
        {
         "alignmentgroup": "True",
         "hovertemplate": "Lead Status=Request Accepted<br>Count=%{x}<br>Stage=%{y}<extra></extra>",
         "legendgroup": "Request Accepted",
         "marker": {
          "color": "#B6E880",
          "pattern": {
           "shape": ""
          }
         },
         "name": "Request Accepted",
         "offsetgroup": "Request Accepted",
         "orientation": "h",
         "showlegend": true,
         "textposition": "auto",
         "type": "bar",
         "x": [
          7,
          7,
          7
         ],
         "xaxis": "x",
         "y": [
          "Attract",
          "Develop",
          "Reach"
         ],
         "yaxis": "y"
        },
        {
         "alignmentgroup": "True",
         "hovertemplate": "Lead Status=Request Sent<br>Count=%{x}<br>Stage=%{y}<extra></extra>",
         "legendgroup": "Request Sent",
         "marker": {
          "color": "#FF97FF",
          "pattern": {
           "shape": ""
          }
         },
         "name": "Request Sent",
         "offsetgroup": "Request Sent",
         "orientation": "h",
         "showlegend": true,
         "textposition": "auto",
         "type": "bar",
         "x": [
          17,
          17,
          17
         ],
         "xaxis": "x",
         "y": [
          "Attract",
          "Develop",
          "Reach"
         ],
         "yaxis": "y"
        },
        {
         "alignmentgroup": "True",
         "hovertemplate": "Lead Status=Won<br>Count=%{x}<br>Stage=%{y}<extra></extra>",
         "legendgroup": "Won",
         "marker": {
          "color": "#FECB52",
          "pattern": {
           "shape": ""
          }
         },
         "name": "Won",
         "offsetgroup": "Won",
         "orientation": "h",
         "showlegend": true,
         "textposition": "auto",
         "type": "bar",
         "x": [
          19,
          19,
          19,
          19,
          19,
          19,
          19,
          19,
          2,
          19
         ],
         "xaxis": "x",
         "y": [
          "Attract",
          "Contract Sent",
          "Develop",
          "Meeting Booked",
          "Negotiation",
          "Onboarded",
          "Proposal",
          "Reach",
          "Renewal",
          "SQL"
         ],
         "yaxis": "y"
        }
       ],
       "layout": {
        "barmode": "stack",
        "height": 600,
        "legend": {
         "title": {
          "text": "Lead Status"
         },
         "tracegroupgap": 0
        },
        "template": {
         "data": {
          "bar": [
           {
            "error_x": {
             "color": "#2a3f5f"
            },
            "error_y": {
             "color": "#2a3f5f"
            },
            "marker": {
             "line": {
              "color": "#E5ECF6",
              "width": 0.5
             },
             "pattern": {
              "fillmode": "overlay",
              "size": 10,
              "solidity": 0.2
             }
            },
            "type": "bar"
           }
          ],
          "barpolar": [
           {
            "marker": {
             "line": {
              "color": "#E5ECF6",
              "width": 0.5
             },
             "pattern": {
              "fillmode": "overlay",
              "size": 10,
              "solidity": 0.2
             }
            },
            "type": "barpolar"
           }
          ],
          "carpet": [
           {
            "aaxis": {
             "endlinecolor": "#2a3f5f",
             "gridcolor": "white",
             "linecolor": "white",
             "minorgridcolor": "white",
             "startlinecolor": "#2a3f5f"
            },
            "baxis": {
             "endlinecolor": "#2a3f5f",
             "gridcolor": "white",
             "linecolor": "white",
             "minorgridcolor": "white",
             "startlinecolor": "#2a3f5f"
            },
            "type": "carpet"
           }
          ],
          "choropleth": [
           {
            "colorbar": {
             "outlinewidth": 0,
             "ticks": ""
            },
            "type": "choropleth"
           }
          ],
          "contour": [
           {
            "colorbar": {
             "outlinewidth": 0,
             "ticks": ""
            },
            "colorscale": [
             [
              0,
              "#0d0887"
             ],
             [
              0.1111111111111111,
              "#46039f"
             ],
             [
              0.2222222222222222,
              "#7201a8"
             ],
             [
              0.3333333333333333,
              "#9c179e"
             ],
             [
              0.4444444444444444,
              "#bd3786"
             ],
             [
              0.5555555555555556,
              "#d8576b"
             ],
             [
              0.6666666666666666,
              "#ed7953"
             ],
             [
              0.7777777777777778,
              "#fb9f3a"
             ],
             [
              0.8888888888888888,
              "#fdca26"
             ],
             [
              1,
              "#f0f921"
             ]
            ],
            "type": "contour"
           }
          ],
          "contourcarpet": [
           {
            "colorbar": {
             "outlinewidth": 0,
             "ticks": ""
            },
            "type": "contourcarpet"
           }
          ],
          "heatmap": [
           {
            "colorbar": {
             "outlinewidth": 0,
             "ticks": ""
            },
            "colorscale": [
             [
              0,
              "#0d0887"
             ],
             [
              0.1111111111111111,
              "#46039f"
             ],
             [
              0.2222222222222222,
              "#7201a8"
             ],
             [
              0.3333333333333333,
              "#9c179e"
             ],
             [
              0.4444444444444444,
              "#bd3786"
             ],
             [
              0.5555555555555556,
              "#d8576b"
             ],
             [
              0.6666666666666666,
              "#ed7953"
             ],
             [
              0.7777777777777778,
              "#fb9f3a"
             ],
             [
              0.8888888888888888,
              "#fdca26"
             ],
             [
              1,
              "#f0f921"
             ]
            ],
            "type": "heatmap"
           }
          ],
          "heatmapgl": [
           {
            "colorbar": {
             "outlinewidth": 0,
             "ticks": ""
            },
            "colorscale": [
             [
              0,
              "#0d0887"
             ],
             [
              0.1111111111111111,
              "#46039f"
             ],
             [
              0.2222222222222222,
              "#7201a8"
             ],
             [
              0.3333333333333333,
              "#9c179e"
             ],
             [
              0.4444444444444444,
              "#bd3786"
             ],
             [
              0.5555555555555556,
              "#d8576b"
             ],
             [
              0.6666666666666666,
              "#ed7953"
             ],
             [
              0.7777777777777778,
              "#fb9f3a"
             ],
             [
              0.8888888888888888,
              "#fdca26"
             ],
             [
              1,
              "#f0f921"
             ]
            ],
            "type": "heatmapgl"
           }
          ],
          "histogram": [
           {
            "marker": {
             "pattern": {
              "fillmode": "overlay",
              "size": 10,
              "solidity": 0.2
             }
            },
            "type": "histogram"
           }
          ],
          "histogram2d": [
           {
            "colorbar": {
             "outlinewidth": 0,
             "ticks": ""
            },
            "colorscale": [
             [
              0,
              "#0d0887"
             ],
             [
              0.1111111111111111,
              "#46039f"
             ],
             [
              0.2222222222222222,
              "#7201a8"
             ],
             [
              0.3333333333333333,
              "#9c179e"
             ],
             [
              0.4444444444444444,
              "#bd3786"
             ],
             [
              0.5555555555555556,
              "#d8576b"
             ],
             [
              0.6666666666666666,
              "#ed7953"
             ],
             [
              0.7777777777777778,
              "#fb9f3a"
             ],
             [
              0.8888888888888888,
              "#fdca26"
             ],
             [
              1,
              "#f0f921"
             ]
            ],
            "type": "histogram2d"
           }
          ],
          "histogram2dcontour": [
           {
            "colorbar": {
             "outlinewidth": 0,
             "ticks": ""
            },
            "colorscale": [
             [
              0,
              "#0d0887"
             ],
             [
              0.1111111111111111,
              "#46039f"
             ],
             [
              0.2222222222222222,
              "#7201a8"
             ],
             [
              0.3333333333333333,
              "#9c179e"
             ],
             [
              0.4444444444444444,
              "#bd3786"
             ],
             [
              0.5555555555555556,
              "#d8576b"
             ],
             [
              0.6666666666666666,
              "#ed7953"
             ],
             [
              0.7777777777777778,
              "#fb9f3a"
             ],
             [
              0.8888888888888888,
              "#fdca26"
             ],
             [
              1,
              "#f0f921"
             ]
            ],
            "type": "histogram2dcontour"
           }
          ],
          "mesh3d": [
           {
            "colorbar": {
             "outlinewidth": 0,
             "ticks": ""
            },
            "type": "mesh3d"
           }
          ],
          "parcoords": [
           {
            "line": {
             "colorbar": {
              "outlinewidth": 0,
              "ticks": ""
             }
            },
            "type": "parcoords"
           }
          ],
          "pie": [
           {
            "automargin": true,
            "type": "pie"
           }
          ],
          "scatter": [
           {
            "fillpattern": {
             "fillmode": "overlay",
             "size": 10,
             "solidity": 0.2
            },
            "type": "scatter"
           }
          ],
          "scatter3d": [
           {
            "line": {
             "colorbar": {
              "outlinewidth": 0,
              "ticks": ""
             }
            },
            "marker": {
             "colorbar": {
              "outlinewidth": 0,
              "ticks": ""
             }
            },
            "type": "scatter3d"
           }
          ],
          "scattercarpet": [
           {
            "marker": {
             "colorbar": {
              "outlinewidth": 0,
              "ticks": ""
             }
            },
            "type": "scattercarpet"
           }
          ],
          "scattergeo": [
           {
            "marker": {
             "colorbar": {
              "outlinewidth": 0,
              "ticks": ""
             }
            },
            "type": "scattergeo"
           }
          ],
          "scattergl": [
           {
            "marker": {
             "colorbar": {
              "outlinewidth": 0,
              "ticks": ""
             }
            },
            "type": "scattergl"
           }
          ],
          "scattermapbox": [
           {
            "marker": {
             "colorbar": {
              "outlinewidth": 0,
              "ticks": ""
             }
            },
            "type": "scattermapbox"
           }
          ],
          "scatterpolar": [
           {
            "marker": {
             "colorbar": {
              "outlinewidth": 0,
              "ticks": ""
             }
            },
            "type": "scatterpolar"
           }
          ],
          "scatterpolargl": [
           {
            "marker": {
             "colorbar": {
              "outlinewidth": 0,
              "ticks": ""
             }
            },
            "type": "scatterpolargl"
           }
          ],
          "scatterternary": [
           {
            "marker": {
             "colorbar": {
              "outlinewidth": 0,
              "ticks": ""
             }
            },
            "type": "scatterternary"
           }
          ],
          "surface": [
           {
            "colorbar": {
             "outlinewidth": 0,
             "ticks": ""
            },
            "colorscale": [
             [
              0,
              "#0d0887"
             ],
             [
              0.1111111111111111,
              "#46039f"
             ],
             [
              0.2222222222222222,
              "#7201a8"
             ],
             [
              0.3333333333333333,
              "#9c179e"
             ],
             [
              0.4444444444444444,
              "#bd3786"
             ],
             [
              0.5555555555555556,
              "#d8576b"
             ],
             [
              0.6666666666666666,
              "#ed7953"
             ],
             [
              0.7777777777777778,
              "#fb9f3a"
             ],
             [
              0.8888888888888888,
              "#fdca26"
             ],
             [
              1,
              "#f0f921"
             ]
            ],
            "type": "surface"
           }
          ],
          "table": [
           {
            "cells": {
             "fill": {
              "color": "#EBF0F8"
             },
             "line": {
              "color": "white"
             }
            },
            "header": {
             "fill": {
              "color": "#C8D4E3"
             },
             "line": {
              "color": "white"
             }
            },
            "type": "table"
           }
          ]
         },
         "layout": {
          "annotationdefaults": {
           "arrowcolor": "#2a3f5f",
           "arrowhead": 0,
           "arrowwidth": 1
          },
          "autotypenumbers": "strict",
          "coloraxis": {
           "colorbar": {
            "outlinewidth": 0,
            "ticks": ""
           }
          },
          "colorscale": {
           "diverging": [
            [
             0,
             "#8e0152"
            ],
            [
             0.1,
             "#c51b7d"
            ],
            [
             0.2,
             "#de77ae"
            ],
            [
             0.3,
             "#f1b6da"
            ],
            [
             0.4,
             "#fde0ef"
            ],
            [
             0.5,
             "#f7f7f7"
            ],
            [
             0.6,
             "#e6f5d0"
            ],
            [
             0.7,
             "#b8e186"
            ],
            [
             0.8,
             "#7fbc41"
            ],
            [
             0.9,
             "#4d9221"
            ],
            [
             1,
             "#276419"
            ]
           ],
           "sequential": [
            [
             0,
             "#0d0887"
            ],
            [
             0.1111111111111111,
             "#46039f"
            ],
            [
             0.2222222222222222,
             "#7201a8"
            ],
            [
             0.3333333333333333,
             "#9c179e"
            ],
            [
             0.4444444444444444,
             "#bd3786"
            ],
            [
             0.5555555555555556,
             "#d8576b"
            ],
            [
             0.6666666666666666,
             "#ed7953"
            ],
            [
             0.7777777777777778,
             "#fb9f3a"
            ],
            [
             0.8888888888888888,
             "#fdca26"
            ],
            [
             1,
             "#f0f921"
            ]
           ],
           "sequentialminus": [
            [
             0,
             "#0d0887"
            ],
            [
             0.1111111111111111,
             "#46039f"
            ],
            [
             0.2222222222222222,
             "#7201a8"
            ],
            [
             0.3333333333333333,
             "#9c179e"
            ],
            [
             0.4444444444444444,
             "#bd3786"
            ],
            [
             0.5555555555555556,
             "#d8576b"
            ],
            [
             0.6666666666666666,
             "#ed7953"
            ],
            [
             0.7777777777777778,
             "#fb9f3a"
            ],
            [
             0.8888888888888888,
             "#fdca26"
            ],
            [
             1,
             "#f0f921"
            ]
           ]
          },
          "colorway": [
           "#636efa",
           "#EF553B",
           "#00cc96",
           "#ab63fa",
           "#FFA15A",
           "#19d3f3",
           "#FF6692",
           "#B6E880",
           "#FF97FF",
           "#FECB52"
          ],
          "font": {
           "color": "#2a3f5f"
          },
          "geo": {
           "bgcolor": "white",
           "lakecolor": "white",
           "landcolor": "#E5ECF6",
           "showlakes": true,
           "showland": true,
           "subunitcolor": "white"
          },
          "hoverlabel": {
           "align": "left"
          },
          "hovermode": "closest",
          "mapbox": {
           "style": "light"
          },
          "paper_bgcolor": "white",
          "plot_bgcolor": "#E5ECF6",
          "polar": {
           "angularaxis": {
            "gridcolor": "white",
            "linecolor": "white",
            "ticks": ""
           },
           "bgcolor": "#E5ECF6",
           "radialaxis": {
            "gridcolor": "white",
            "linecolor": "white",
            "ticks": ""
           }
          },
          "scene": {
           "xaxis": {
            "backgroundcolor": "#E5ECF6",
            "gridcolor": "white",
            "gridwidth": 2,
            "linecolor": "white",
            "showbackground": true,
            "ticks": "",
            "zerolinecolor": "white"
           },
           "yaxis": {
            "backgroundcolor": "#E5ECF6",
            "gridcolor": "white",
            "gridwidth": 2,
            "linecolor": "white",
            "showbackground": true,
            "ticks": "",
            "zerolinecolor": "white"
           },
           "zaxis": {
            "backgroundcolor": "#E5ECF6",
            "gridcolor": "white",
            "gridwidth": 2,
            "linecolor": "white",
            "showbackground": true,
            "ticks": "",
            "zerolinecolor": "white"
           }
          },
          "shapedefaults": {
           "line": {
            "color": "#2a3f5f"
           }
          },
          "ternary": {
           "aaxis": {
            "gridcolor": "white",
            "linecolor": "white",
            "ticks": ""
           },
           "baxis": {
            "gridcolor": "white",
            "linecolor": "white",
            "ticks": ""
           },
           "bgcolor": "#E5ECF6",
           "caxis": {
            "gridcolor": "white",
            "linecolor": "white",
            "ticks": ""
           }
          },
          "title": {
           "x": 0.05
          },
          "xaxis": {
           "automargin": true,
           "gridcolor": "white",
           "linecolor": "white",
           "ticks": "",
           "title": {
            "standoff": 15
           },
           "zerolinecolor": "white",
           "zerolinewidth": 2
          },
          "yaxis": {
           "automargin": true,
           "gridcolor": "white",
           "linecolor": "white",
           "ticks": "",
           "title": {
            "standoff": 15
           },
           "zerolinecolor": "white",
           "zerolinewidth": 2
          }
         }
        },
        "title": {
         "text": "Cumulative Stage Counts by Lead Status (Stacked)"
        },
        "width": 800,
        "xaxis": {
         "anchor": "y",
         "autorange": true,
         "domain": [
          0,
          1
         ],
         "range": [
          0,
          2626.315789473684
         ],
         "title": {
          "text": "Cumulative Count"
         },
         "type": "linear"
        },
        "yaxis": {
         "anchor": "x",
         "autorange": true,
         "categoryorder": "total ascending",
         "domain": [
          0,
          1
         ],
         "range": [
          -0.5,
          10.5
         ],
         "title": {
          "text": "Stage"
         },
         "type": "category"
        }
       }
      },
      "image/png": "[encoded data removed]",
      "text/html": [
       "<div>                            <div id=\"9621b656-dd75-43d5-b0ca-3ab2f039b6d5\" class=\"plotly-graph-div\" style=\"height:600px; width:800px;\"></div>            <script type=\"text/javascript\">                require([\"plotly\"], function(Plotly) {                    window.PLOTLYENV=window.PLOTLYENV || {};                                    if (document.getElementById(\"9621b656-dd75-43d5-b0ca-3ab2f039b6d5\")) {                    Plotly.newPlot(                        \"9621b656-dd75-43d5-b0ca-3ab2f039b6d5\",                        [{\"alignmentgroup\":\"True\",\"hovertemplate\":\"Lead Status=New Lead<br>Count=%{x}<br>Stage=%{y}<extra></extra>\",\"legendgroup\":\"New Lead\",\"marker\":{\"color\":\"#636efa\",\"pattern\":{\"shape\":\"\"}},\"name\":\"New Lead\",\"offsetgroup\":\"New Lead\",\"orientation\":\"h\",\"showlegend\":true,\"textposition\":\"auto\",\"x\":[1,2268,1,334,1,1,1,1,2393,1,1],\"xaxis\":\"x\",\"y\":[\"Analyze failure\",\"Attract\",\"Contract Sent\",\"Develop\",\"Meeting Booked\",\"Negotiation\",\"Onboarded\",\"Proposal\",\"Reach\",\"Renewal\",\"SQL\"],\"yaxis\":\"y\",\"type\":\"bar\"},{\"alignmentgroup\":\"True\",\"hovertemplate\":\"Lead Status=Connection Made<br>Count=%{x}<br>Stage=%{y}<extra></extra>\",\"legendgroup\":\"Connection Made\",\"marker\":{\"color\":\"#EF553B\",\"pattern\":{\"shape\":\"\"}},\"name\":\"Connection Made\",\"offsetgroup\":\"Connection Made\",\"orientation\":\"h\",\"showlegend\":true,\"textposition\":\"auto\",\"x\":[16,4,16,15,3,1,8,16,14],\"xaxis\":\"x\",\"y\":[\"Attract\",\"Contract Sent\",\"Develop\",\"Meeting Booked\",\"Negotiation\",\"Onboarded\",\"Proposal\",\"Reach\",\"SQL\"],\"yaxis\":\"y\",\"type\":\"bar\"},{\"alignmentgroup\":\"True\",\"hovertemplate\":\"Lead Status=Connection yet to be made<br>Count=%{x}<br>Stage=%{y}<extra></extra>\",\"legendgroup\":\"Connection yet to be made\",\"marker\":{\"color\":\"#00cc96\",\"pattern\":{\"shape\":\"\"}},\"name\":\"Connection yet to be made\",\"offsetgroup\":\"Connection yet to be made\",\"orientation\":\"h\",\"showlegend\":true,\"textposition\":\"auto\",\"x\":[4,4,4],\"xaxis\":\"x\",\"y\":[\"Attract\",\"Develop\",\"Reach\"],\"yaxis\":\"y\",\"type\":\"bar\"},{\"alignmentgroup\":\"True\",\"hovertemplate\":\"Lead Status=Dead<br>Count=%{x}<br>Stage=%{y}<extra></extra>\",\"legendgroup\":\"Dead\",\"marker\":{\"color\":\"#ab63fa\",\"pattern\":{\"shape\":\"\"}},\"name\":\"Dead\",\"offsetgroup\":\"Dead\",\"orientation\":\"h\",\"showlegend\":true,\"textposition\":\"auto\",\"x\":[8,1,8,7,1,8,4],\"xaxis\":\"x\",\"y\":[\"Attract\",\"Contract Sent\",\"Develop\",\"Meeting Booked\",\"Proposal\",\"Reach\",\"SQL\"],\"yaxis\":\"y\",\"type\":\"bar\"},{\"alignmentgroup\":\"True\",\"hovertemplate\":\"Lead Status=Junk<br>Count=%{x}<br>Stage=%{y}<extra></extra>\",\"legendgroup\":\"Junk\",\"marker\":{\"color\":\"#FFA15A\",\"pattern\":{\"shape\":\"\"}},\"name\":\"Junk\",\"offsetgroup\":\"Junk\",\"orientation\":\"h\",\"showlegend\":true,\"textposition\":\"auto\",\"x\":[2,2,1,4],\"xaxis\":\"x\",\"y\":[\"Attract\",\"Develop\",\"Meeting Booked\",\"Reach\"],\"yaxis\":\"y\",\"type\":\"bar\"},{\"alignmentgroup\":\"True\",\"hovertemplate\":\"Lead Status=No Show<br>Count=%{x}<br>Stage=%{y}<extra></extra>\",\"legendgroup\":\"No Show\",\"marker\":{\"color\":\"#19d3f3\",\"pattern\":{\"shape\":\"\"}},\"name\":\"No Show\",\"offsetgroup\":\"No Show\",\"orientation\":\"h\",\"showlegend\":true,\"textposition\":\"auto\",\"x\":[8,8,8,8],\"xaxis\":\"x\",\"y\":[\"Attract\",\"Develop\",\"Meeting Booked\",\"Reach\"],\"yaxis\":\"y\",\"type\":\"bar\"},{\"alignmentgroup\":\"True\",\"hovertemplate\":\"Lead Status=Nurture<br>Count=%{x}<br>Stage=%{y}<extra></extra>\",\"legendgroup\":\"Nurture\",\"marker\":{\"color\":\"#FF6692\",\"pattern\":{\"shape\":\"\"}},\"name\":\"Nurture\",\"offsetgroup\":\"Nurture\",\"orientation\":\"h\",\"showlegend\":true,\"textposition\":\"auto\",\"x\":[19,2,19,18,1,6,19,15],\"xaxis\":\"x\",\"y\":[\"Attract\",\"Contract Sent\",\"Develop\",\"Meeting Booked\",\"Negotiation\",\"Proposal\",\"Reach\",\"SQL\"],\"yaxis\":\"y\",\"type\":\"bar\"},{\"alignmentgroup\":\"True\",\"hovertemplate\":\"Lead Status=Request Accepted<br>Count=%{x}<br>Stage=%{y}<extra></extra>\",\"legendgroup\":\"Request Accepted\",\"marker\":{\"color\":\"#B6E880\",\"pattern\":{\"shape\":\"\"}},\"name\":\"Request Accepted\",\"offsetgroup\":\"Request Accepted\",\"orientation\":\"h\",\"showlegend\":true,\"textposition\":\"auto\",\"x\":[7,7,7],\"xaxis\":\"x\",\"y\":[\"Attract\",\"Develop\",\"Reach\"],\"yaxis\":\"y\",\"type\":\"bar\"},{\"alignmentgroup\":\"True\",\"hovertemplate\":\"Lead Status=Request Sent<br>Count=%{x}<br>Stage=%{y}<extra></extra>\",\"legendgroup\":\"Request Sent\",\"marker\":{\"color\":\"#FF97FF\",\"pattern\":{\"shape\":\"\"}},\"name\":\"Request Sent\",\"offsetgroup\":\"Request Sent\",\"orientation\":\"h\",\"showlegend\":true,\"textposition\":\"auto\",\"x\":[17,17,17],\"xaxis\":\"x\",\"y\":[\"Attract\",\"Develop\",\"Reach\"],\"yaxis\":\"y\",\"type\":\"bar\"},{\"alignmentgroup\":\"True\",\"hovertemplate\":\"Lead Status=Won<br>Count=%{x}<br>Stage=%{y}<extra></extra>\",\"legendgroup\":\"Won\",\"marker\":{\"color\":\"#FECB52\",\"pattern\":{\"shape\":\"\"}},\"name\":\"Won\",\"offsetgroup\":\"Won\",\"orientation\":\"h\",\"showlegend\":true,\"textposition\":\"auto\",\"x\":[19,19,19,19,19,19,19,19,2,19],\"xaxis\":\"x\",\"y\":[\"Attract\",\"Contract Sent\",\"Develop\",\"Meeting Booked\",\"Negotiation\",\"Onboarded\",\"Proposal\",\"Reach\",\"Renewal\",\"SQL\"],\"yaxis\":\"y\",\"type\":\"bar\"}],                        {\"template\":{\"data\":{\"histogram2dcontour\":[{\"type\":\"histogram2dcontour\",\"colorbar\":{\"outlinewidth\":0,\"ticks\":\"\"},\"colorscale\":[[0.0,\"#0d0887\"],[0.1111111111111111,\"#46039f\"],[0.2222222222222222,\"#7201a8\"],[0.3333333333333333,\"#9c179e\"],[0.4444444444444444,\"#bd3786\"],[0.5555555555555556,\"#d8576b\"],[0.6666666666666666,\"#ed7953\"],[0.7777777777777778,\"#fb9f3a\"],[0.8888888888888888,\"#fdca26\"],[1.0,\"#f0f921\"]]}],\"choropleth\":[{\"type\":\"choropleth\",\"colorbar\":{\"outlinewidth\":0,\"ticks\":\"\"}}],\"histogram2d\":[{\"type\":\"histogram2d\",\"colorbar\":{\"outlinewidth\":0,\"ticks\":\"\"},\"colorscale\":[[0.0,\"#0d0887\"],[0.1111111111111111,\"#46039f\"],[0.2222222222222222,\"#7201a8\"],[0.3333333333333333,\"#9c179e\"],[0.4444444444444444,\"#bd3786\"],[0.5555555555555556,\"#d8576b\"],[0.6666666666666666,\"#ed7953\"],[0.7777777777777778,\"#fb9f3a\"],[0.8888888888888888,\"#fdca26\"],[1.0,\"#f0f921\"]]}],\"heatmap\":[{\"type\":\"heatmap\",\"colorbar\":{\"outlinewidth\":0,\"ticks\":\"\"},\"colorscale\":[[0.0,\"#0d0887\"],[0.1111111111111111,\"#46039f\"],[0.2222222222222222,\"#7201a8\"],[0.3333333333333333,\"#9c179e\"],[0.4444444444444444,\"#bd3786\"],[0.5555555555555556,\"#d8576b\"],[0.6666666666666666,\"#ed7953\"],[0.7777777777777778,\"#fb9f3a\"],[0.8888888888888888,\"#fdca26\"],[1.0,\"#f0f921\"]]}],\"heatmapgl\":[{\"type\":\"heatmapgl\",\"colorbar\":{\"outlinewidth\":0,\"ticks\":\"\"},\"colorscale\":[[0.0,\"#0d0887\"],[0.1111111111111111,\"#46039f\"],[0.2222222222222222,\"#7201a8\"],[0.3333333333333333,\"#9c179e\"],[0.4444444444444444,\"#bd3786\"],[0.5555555555555556,\"#d8576b\"],[0.6666666666666666,\"#ed7953\"],[0.7777777777777778,\"#fb9f3a\"],[0.8888888888888888,\"#fdca26\"],[1.0,\"#f0f921\"]]}],\"contourcarpet\":[{\"type\":\"contourcarpet\",\"colorbar\":{\"outlinewidth\":0,\"ticks\":\"\"}}],\"contour\":[{\"type\":\"contour\",\"colorbar\":{\"outlinewidth\":0,\"ticks\":\"\"},\"colorscale\":[[0.0,\"#0d0887\"],[0.1111111111111111,\"#46039f\"],[0.2222222222222222,\"#7201a8\"],[0.3333333333333333,\"#9c179e\"],[0.4444444444444444,\"#bd3786\"],[0.5555555555555556,\"#d8576b\"],[0.6666666666666666,\"#ed7953\"],[0.7777777777777778,\"#fb9f3a\"],[0.8888888888888888,\"#fdca26\"],[1.0,\"#f0f921\"]]}],\"surface\":[{\"type\":\"surface\",\"colorbar\":{\"outlinewidth\":0,\"ticks\":\"\"},\"colorscale\":[[0.0,\"#0d0887\"],[0.1111111111111111,\"#46039f\"],[0.2222222222222222,\"#7201a8\"],[0.3333333333333333,\"#9c179e\"],[0.4444444444444444,\"#bd3786\"],[0.5555555555555556,\"#d8576b\"],[0.6666666666666666,\"#ed7953\"],[0.7777777777777778,\"#fb9f3a\"],[0.8888888888888888,\"#fdca26\"],[1.0,\"#f0f921\"]]}],\"mesh3d\":[{\"type\":\"mesh3d\",\"colorbar\":{\"outlinewidth\":0,\"ticks\":\"\"}}],\"scatter\":[{\"fillpattern\":{\"fillmode\":\"overlay\",\"size\":10,\"solidity\":0.2},\"type\":\"scatter\"}],\"parcoords\":[{\"type\":\"parcoords\",\"line\":{\"colorbar\":{\"outlinewidth\":0,\"ticks\":\"\"}}}],\"scatterpolargl\":[{\"type\":\"scatterpolargl\",\"marker\":{\"colorbar\":{\"outlinewidth\":0,\"ticks\":\"\"}}}],\"bar\":[{\"error_x\":{\"color\":\"#2a3f5f\"},\"error_y\":{\"color\":\"#2a3f5f\"},\"marker\":{\"line\":{\"color\":\"#E5ECF6\",\"width\":0.5},\"pattern\":{\"fillmode\":\"overlay\",\"size\":10,\"solidity\":0.2}},\"type\":\"bar\"}],\"scattergeo\":[{\"type\":\"scattergeo\",\"marker\":{\"colorbar\":{\"outlinewidth\":0,\"ticks\":\"\"}}}],\"scatterpolar\":[{\"type\":\"scatterpolar\",\"marker\":{\"colorbar\":{\"outlinewidth\":0,\"ticks\":\"\"}}}],\"histogram\":[{\"marker\":{\"pattern\":{\"fillmode\":\"overlay\",\"size\":10,\"solidity\":0.2}},\"type\":\"histogram\"}],\"scattergl\":[{\"type\":\"scattergl\",\"marker\":{\"colorbar\":{\"outlinewidth\":0,\"ticks\":\"\"}}}],\"scatter3d\":[{\"type\":\"scatter3d\",\"line\":{\"colorbar\":{\"outlinewidth\":0,\"ticks\":\"\"}},\"marker\":{\"colorbar\":{\"outlinewidth\":0,\"ticks\":\"\"}}}],\"scattermapbox\":[{\"type\":\"scattermapbox\",\"marker\":{\"colorbar\":{\"outlinewidth\":0,\"ticks\":\"\"}}}],\"scatterternary\":[{\"type\":\"scatterternary\",\"marker\":{\"colorbar\":{\"outlinewidth\":0,\"ticks\":\"\"}}}],\"scattercarpet\":[{\"type\":\"scattercarpet\",\"marker\":{\"colorbar\":{\"outlinewidth\":0,\"ticks\":\"\"}}}],\"carpet\":[{\"aaxis\":{\"endlinecolor\":\"#2a3f5f\",\"gridcolor\":\"white\",\"linecolor\":\"white\",\"minorgridcolor\":\"white\",\"startlinecolor\":\"#2a3f5f\"},\"baxis\":{\"endlinecolor\":\"#2a3f5f\",\"gridcolor\":\"white\",\"linecolor\":\"white\",\"minorgridcolor\":\"white\",\"startlinecolor\":\"#2a3f5f\"},\"type\":\"carpet\"}],\"table\":[{\"cells\":{\"fill\":{\"color\":\"#EBF0F8\"},\"line\":{\"color\":\"white\"}},\"header\":{\"fill\":{\"color\":\"#C8D4E3\"},\"line\":{\"color\":\"white\"}},\"type\":\"table\"}],\"barpolar\":[{\"marker\":{\"line\":{\"color\":\"#E5ECF6\",\"width\":0.5},\"pattern\":{\"fillmode\":\"overlay\",\"size\":10,\"solidity\":0.2}},\"type\":\"barpolar\"}],\"pie\":[{\"automargin\":true,\"type\":\"pie\"}]},\"layout\":{\"autotypenumbers\":\"strict\",\"colorway\":[\"#636efa\",\"#EF553B\",\"#00cc96\",\"#ab63fa\",\"#FFA15A\",\"#19d3f3\",\"#FF6692\",\"#B6E880\",\"#FF97FF\",\"#FECB52\"],\"font\":{\"color\":\"#2a3f5f\"},\"hovermode\":\"closest\",\"hoverlabel\":{\"align\":\"left\"},\"paper_bgcolor\":\"white\",\"plot_bgcolor\":\"#E5ECF6\",\"polar\":{\"bgcolor\":\"#E5ECF6\",\"angularaxis\":{\"gridcolor\":\"white\",\"linecolor\":\"white\",\"ticks\":\"\"},\"radialaxis\":{\"gridcolor\":\"white\",\"linecolor\":\"white\",\"ticks\":\"\"}},\"ternary\":{\"bgcolor\":\"#E5ECF6\",\"aaxis\":{\"gridcolor\":\"white\",\"linecolor\":\"white\",\"ticks\":\"\"},\"baxis\":{\"gridcolor\":\"white\",\"linecolor\":\"white\",\"ticks\":\"\"},\"caxis\":{\"gridcolor\":\"white\",\"linecolor\":\"white\",\"ticks\":\"\"}},\"coloraxis\":{\"colorbar\":{\"outlinewidth\":0,\"ticks\":\"\"}},\"colorscale\":{\"sequential\":[[0.0,\"#0d0887\"],[0.1111111111111111,\"#46039f\"],[0.2222222222222222,\"#7201a8\"],[0.3333333333333333,\"#9c179e\"],[0.4444444444444444,\"#bd3786\"],[0.5555555555555556,\"#d8576b\"],[0.6666666666666666,\"#ed7953\"],[0.7777777777777778,\"#fb9f3a\"],[0.8888888888888888,\"#fdca26\"],[1.0,\"#f0f921\"]],\"sequentialminus\":[[0.0,\"#0d0887\"],[0.1111111111111111,\"#46039f\"],[0.2222222222222222,\"#7201a8\"],[0.3333333333333333,\"#9c179e\"],[0.4444444444444444,\"#bd3786\"],[0.5555555555555556,\"#d8576b\"],[0.6666666666666666,\"#ed7953\"],[0.7777777777777778,\"#fb9f3a\"],[0.8888888888888888,\"#fdca26\"],[1.0,\"#f0f921\"]],\"diverging\":[[0,\"#8e0152\"],[0.1,\"#c51b7d\"],[0.2,\"#de77ae\"],[0.3,\"#f1b6da\"],[0.4,\"#fde0ef\"],[0.5,\"#f7f7f7\"],[0.6,\"#e6f5d0\"],[0.7,\"#b8e186\"],[0.8,\"#7fbc41\"],[0.9,\"#4d9221\"],[1,\"#276419\"]]},\"xaxis\":{\"gridcolor\":\"white\",\"linecolor\":\"white\",\"ticks\":\"\",\"title\":{\"standoff\":15},\"zerolinecolor\":\"white\",\"automargin\":true,\"zerolinewidth\":2},\"yaxis\":{\"gridcolor\":\"white\",\"linecolor\":\"white\",\"ticks\":\"\",\"title\":{\"standoff\":15},\"zerolinecolor\":\"white\",\"automargin\":true,\"zerolinewidth\":2},\"scene\":{\"xaxis\":{\"backgroundcolor\":\"#E5ECF6\",\"gridcolor\":\"white\",\"linecolor\":\"white\",\"showbackground\":true,\"ticks\":\"\",\"zerolinecolor\":\"white\",\"gridwidth\":2},\"yaxis\":{\"backgroundcolor\":\"#E5ECF6\",\"gridcolor\":\"white\",\"linecolor\":\"white\",\"showbackground\":true,\"ticks\":\"\",\"zerolinecolor\":\"white\",\"gridwidth\":2},\"zaxis\":{\"backgroundcolor\":\"#E5ECF6\",\"gridcolor\":\"white\",\"linecolor\":\"white\",\"showbackground\":true,\"ticks\":\"\",\"zerolinecolor\":\"white\",\"gridwidth\":2}},\"shapedefaults\":{\"line\":{\"color\":\"#2a3f5f\"}},\"annotationdefaults\":{\"arrowcolor\":\"#2a3f5f\",\"arrowhead\":0,\"arrowwidth\":1},\"geo\":{\"bgcolor\":\"white\",\"landcolor\":\"#E5ECF6\",\"subunitcolor\":\"white\",\"showland\":true,\"showlakes\":true,\"lakecolor\":\"white\"},\"title\":{\"x\":0.05},\"mapbox\":{\"style\":\"light\"}}},\"xaxis\":{\"anchor\":\"y\",\"domain\":[0.0,1.0],\"title\":{\"text\":\"Cumulative Count\"}},\"yaxis\":{\"anchor\":\"x\",\"domain\":[0.0,1.0],\"title\":{\"text\":\"Stage\"},\"categoryorder\":\"total ascending\"},\"legend\":{\"title\":{\"text\":\"Lead Status\"},\"tracegroupgap\":0},\"title\":{\"text\":\"Cumulative Stage Counts by Lead Status (Stacked)\"},\"barmode\":\"stack\",\"width\":800,\"height\":600},                        {\"responsive\": true}                    ).then(function(){\n",
       "                            \n",
       "var gd = document.getElementById('9621b656-dd75-43d5-b0ca-3ab2f039b6d5');\n",
       "var x = new MutationObserver(function (mutations, observer) {{\n",
       "        var display = window.getComputedStyle(gd).display;\n",
       "        if (!display || display === 'none') {{\n",
       "            console.log([gd, 'removed!']);\n",
       "            Plotly.purge(gd);\n",
       "            observer.disconnect();\n",
       "        }}\n",
       "}});\n",
       "\n",
       "// Listen for the removal of the full notebook cells\n",
       "var notebookContainer = gd.closest('#notebook-container');\n",
       "if (notebookContainer) {{\n",
       "    x.observe(notebookContainer, {childList: true});\n",
       "}}\n",
       "\n",
       "// Listen for the clearing of the current output cell\n",
       "var outputEl = gd.closest('.output');\n",
       "if (outputEl) {{\n",
       "    x.observe(outputEl, {childList: true});\n",
       "}}\n",
       "\n",
       "                        })                };                });            </script>        </div>"
      ]
     },
     "metadata": {},
     "output_type": "display_data"
    }
   ],
   "source": [
    "\n",
    "# Create a stacked horizontal bar graph using Plotly\n",
    "fig = px.bar(\n",
    "    cumulative_grouped,\n",
    "    x='Count',\n",
    "    y='Stage',\n",
    "    color=breakdown_var,  # Color bars based on the breakdown column\n",
    "    orientation='h',         # Horizontal orientation\n",
    "    barmode='stack',         # Stack bars within each stage\n",
    "    labels={'Cumulative Count': 'Cumulative Count', 'Stage': 'Stage'},\n",
    "    title=f'Cumulative Stage Counts by {breakdown_var} (Stacked)'\n",
    ")\n",
    "\n",
    "# Update layout for better visualization\n",
    "fig.update_layout(\n",
    "    yaxis={'categoryorder': 'total ascending'},  # Reverse the stage order\n",
    "    xaxis_title='Cumulative Count',\n",
    "    yaxis_title='Stage',\n",
    "    legend_title=breakdown_var,\n",
    "    width=800,\n",
    "    height=600\n",
    ")\n",
    "\n",
    "# Show the plot\n",
    "fig.show()\n"
   ]
  }
 ],
 "metadata": {
  "kernelspec": {
   "display_name": "Python 3 (ipykernel)",
   "language": "python",
   "name": "python3"
  },
  "language_info": {
   "codemirror_mode": {
    "name": "ipython",
    "version": 3
   },
   "file_extension": ".py",
   "mimetype": "text/x-python",
   "name": "python",
   "nbconvert_exporter": "python",
   "pygments_lexer": "ipython3",
   "version": "3.11.7"
  }
 },
 "nbformat": 4,
 "nbformat_minor": 5
}
